{
 "cells": [
  {
   "cell_type": "markdown",
   "id": "13066809",
   "metadata": {},
   "source": [
    "# calculator using Tkinter"
   ]
  },
  {
   "cell_type": "code",
   "execution_count": 4,
   "id": "d56296f3",
   "metadata": {},
   "outputs": [],
   "source": [
    "import tkinter as tk\n",
    "\n",
    "def button_click(event):\n",
    "    text = event.widget.cget(\"text\")\n",
    "    if text == \"=\":\n",
    "        try:\n",
    "            result = eval(str(screen.get()))\n",
    "            screen.set(result)\n",
    "        except Exception as e:\n",
    "            screen.set(\"Error\")\n",
    "    elif text == \"C\":\n",
    "        screen.set(\"\")\n",
    "    else:\n",
    "        current_text = screen.get()\n",
    "        screen.set(current_text + text)\n",
    "\n",
    "\n",
    "root = tk.Tk()\n",
    "root.title(\"Calculator\")\n",
    "root.geometry(\"300x400\")\n",
    "\n",
    "screen = tk.StringVar()\n",
    "screen.set(\"\")\n",
    "\n",
    "entry = tk.Entry(root, textvar=screen, font=\"Arial 20\", bd=5, relief=tk.SUNKEN, justify=tk.RIGHT)\n",
    "entry.pack(fill=tk.BOTH, ipadx=8, pady=10, padx=10)\n",
    "\n",
    "\n",
    "button_texts = [\n",
    "    (\"7\", \"8\", \"9\", \"/\"),\n",
    "    (\"4\", \"5\", \"6\", \"*\"),\n",
    "    (\"1\", \"2\", \"3\", \"-\"),\n",
    "    (\"C\", \"0\", \"=\", \"+\")\n",
    "]\n",
    "\n",
    "\n",
    "for row_index, row in enumerate(button_texts):\n",
    "    frame = tk.Frame(root)\n",
    "    frame.pack(expand=True, fill=tk.BOTH)\n",
    "    for col_index, button_text in enumerate(row):\n",
    "        button = tk.Button(\n",
    "            frame, text=button_text, font=\"Arial 18\", relief=tk.RAISED, bd=2,\n",
    "            command=lambda text=button_text: button_click(event=tk.Event))\n",
    "        button.pack(side=tk.LEFT, expand=True, fill=tk.BOTH)\n",
    "        button.bind(\"<Button-1>\", button_click)\n",
    "\n",
    "root.mainloop()\n"
   ]
  }
 ],
 "metadata": {
  "kernelspec": {
   "display_name": "Python 3 (ipykernel)",
   "language": "python",
   "name": "python3"
  },
  "language_info": {
   "codemirror_mode": {
    "name": "ipython",
    "version": 3
   },
   "file_extension": ".py",
   "mimetype": "text/x-python",
   "name": "python",
   "nbconvert_exporter": "python",
   "pygments_lexer": "ipython3",
   "version": "3.11.5"
  }
 },
 "nbformat": 4,
 "nbformat_minor": 5
}
