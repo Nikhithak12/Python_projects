{
 "cells": [
  {
   "cell_type": "code",
   "execution_count": 2,
   "id": "39ba7c53",
   "metadata": {},
   "outputs": [],
   "source": [
    "import tkinter as tk\n",
    "from tkinter import messagebox\n",
    "\n",
    "class QuizApp:\n",
    "    def __init__(self, root):\n",
    "        self.root = root\n",
    "        self.root.title(\"Quiz Maker\")\n",
    "        \n",
    "        self.questions = [\n",
    "            (\"What is the capital of France?\", [\"Berlin\", \"Madrid\", \"Paris\", \"Rome\"], \"Paris\"),\n",
    "            (\"What is 5 + 3?\", [\"5\", \"6\", \"7\", \"8\"], \"8\"),\n",
    "            (\"What is 6 * 0?\", [\"6\", \"0\", \"1\", \"2\"], \"0\"),\n",
    "            (\"What is the capital of India?\", [\"Kerala\", \"Goa\", \"Tamil Nadu\", \"New Delhi\"], \"New Delhi\"),\n",
    "            (\"What is the square root of 16?\", [\"2\", \"3\", \"4\", \"5\"], \"4\"),\n",
    "            (\"Who wrote 'Romeo and Juliet'?\", [\"Shakespeare\", \"Dickens\", \"Tolstoy\", \"Hemingway\"], \"Shakespeare\"),\n",
    "            (\"What is the largest planet in the solar system?\", [\"Earth\", \"Mars\", \"Jupiter\", \"Saturn\"], \"Jupiter\"),\n",
    "            (\"Who discovered gravity?\", [\"Newton\", \"Einstein\", \"Galileo\", \"Tesla\"], \"Newton\"),\n",
    "            (\"Which language is used for web development?\", [\"Python\", \"Java\", \"HTML\", \"C++\"], \"HTML\"),\n",
    "            (\"What is the boiling point of water in Celsius?\", [\"90\", \"100\", \"110\", \"120\"], \"100\"),\n",
    "        ]\n",
    "        \n",
    "        self.q_index = 0\n",
    "        self.score = 0\n",
    "        \n",
    "        self.question_label = tk.Label(root, font=(\"Arial\", 14))\n",
    "        self.question_label.pack(pady=20)\n",
    "        \n",
    "        self.option_var = tk.StringVar()\n",
    "        self.options = [tk.Radiobutton(root, variable=self.option_var, font=(\"Arial\", 12)) for _ in range(4)]\n",
    "        for opt in self.options:\n",
    "            opt.pack(anchor=\"w\")\n",
    "        \n",
    "        tk.Button(root, text=\"Submit\", command=self.next_question).pack(pady=20)\n",
    "        self.load_question()\n",
    "\n",
    "    def load_question(self):\n",
    "        question, options, _ = self.questions[self.q_index]\n",
    "        self.question_label.config(text=question)\n",
    "        for btn, option in zip(self.options, options):\n",
    "            btn.config(text=option, value=option)\n",
    "        self.option_var.set(None)\n",
    "\n",
    "    def next_question(self):\n",
    "        if self.option_var.get() == self.questions[self.q_index][2]:\n",
    "            self.score += 1\n",
    "        self.q_index += 1\n",
    "        if self.q_index < len(self.questions):\n",
    "            self.load_question()\n",
    "        else:\n",
    "            messagebox.showinfo(\"Quiz Complete\", f\"Your score: {self.score}/{len(self.questions)}\")\n",
    "            self.root.quit()\n",
    "\n",
    "root = tk.Tk()\n",
    "QuizApp(root)\n",
    "root.mainloop()\n"
   ]
  }
 ],
 "metadata": {
  "kernelspec": {
   "display_name": "Python 3 (ipykernel)",
   "language": "python",
   "name": "python3"
  },
  "language_info": {
   "codemirror_mode": {
    "name": "ipython",
    "version": 3
   },
   "file_extension": ".py",
   "mimetype": "text/x-python",
   "name": "python",
   "nbconvert_exporter": "python",
   "pygments_lexer": "ipython3",
   "version": "3.11.5"
  }
 },
 "nbformat": 4,
 "nbformat_minor": 5
}
