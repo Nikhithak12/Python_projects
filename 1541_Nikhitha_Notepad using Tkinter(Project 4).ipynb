{
 "cells": [
  {
   "cell_type": "markdown",
   "id": "2e64b3ce",
   "metadata": {},
   "source": [
    "# Notepad Using Tkinter"
   ]
  },
  {
   "cell_type": "code",
   "execution_count": 1,
   "id": "8bab9e92",
   "metadata": {},
   "outputs": [],
   "source": [
    "import tkinter as tk\n",
    "from tkinter import filedialog\n",
    "\n",
    "def new_file():\n",
    "    text.delete(1.0, tk.END)\n",
    "    root.title(\"Untitled - Notepad\")\n",
    "\n",
    "def open_file():\n",
    "    file = filedialog.askopenfilename(defaultextension=\".txt\", filetypes=[(\"Text files\", \"*.txt\")])\n",
    "    if file:\n",
    "        with open(file, \"r\") as f:\n",
    "            text.delete(1.0, tk.END)\n",
    "            text.insert(tk.END, f.read())\n",
    "        root.title(f\"{file} - Notepad\")\n",
    "\n",
    "def save_file():\n",
    "    file = filedialog.asksaveasfilename(defaultextension=\".txt\", filetypes=[(\"Text files\", \"*.txt\")])\n",
    "    if file:\n",
    "        with open(file, \"w\") as f:\n",
    "            f.write(text.get(1.0, tk.END))\n",
    "        root.title(f\"{file} - Notepad\")\n",
    "\n",
    "root = tk.Tk()\n",
    "root.title(\"Untitled - Notepad\")\n",
    "root.geometry(\"600x400\")\n",
    "\n",
    "text = tk.Text(root, wrap=\"word\")\n",
    "text.pack(expand=True, fill=tk.BOTH)\n",
    "\n",
    "menu_bar = tk.Menu(root)\n",
    "file_menu = tk.Menu(menu_bar, tearoff=0)\n",
    "file_menu.add_command(label=\"New\", command=new_file)\n",
    "file_menu.add_command(label=\"Open\", command=open_file)\n",
    "file_menu.add_command(label=\"Save\", command=save_file)\n",
    "file_menu.add_separator()\n",
    "file_menu.add_command(label=\"Exit\", command=root.quit)\n",
    "\n",
    "menu_bar.add_cascade(label=\"File\", menu=file_menu)\n",
    "root.config(menu=menu_bar)\n",
    "\n",
    "root.mainloop()\n"
   ]
  }
 ],
 "metadata": {
  "kernelspec": {
   "display_name": "Python 3 (ipykernel)",
   "language": "python",
   "name": "python3"
  },
  "language_info": {
   "codemirror_mode": {
    "name": "ipython",
    "version": 3
   },
   "file_extension": ".py",
   "mimetype": "text/x-python",
   "name": "python",
   "nbconvert_exporter": "python",
   "pygments_lexer": "ipython3",
   "version": "3.11.5"
  }
 },
 "nbformat": 4,
 "nbformat_minor": 5
}
